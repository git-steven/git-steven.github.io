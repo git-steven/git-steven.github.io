{
 "cells": [
  {
   "cell_type": "code",
   "execution_count": 1,
   "id": "122cb969-bdbc-4bc1-ad8d-343651e2821e",
   "metadata": {},
   "outputs": [
    {
     "name": "stderr",
     "output_type": "stream",
     "text": [
      "Setting default log level to \"WARN\".\n",
      "To adjust logging level use sc.setLogLevel(newLevel). For SparkR, use setLogLevel(newLevel).\n",
      "24/04/20 18:06:35 WARN NativeCodeLoader: Unable to load native-hadoop library for your platform... using builtin-java classes where applicable\n"
     ]
    }
   ],
   "source": [
    "from IPython.display import display, HTML\n",
    "from pyspark.sql import SparkSession\n",
    "import pyspark.sql.functions as F\n",
    "spark = SparkSession.builder.appName(\"GameOfThronesAnalysis\").getOrCreate()\n",
    "\n",
    "def display_df(df, rows=1):\n",
    "    display(HTML(df.toPandas().head(rows).to_html()))"
   ]
  },
  {
   "cell_type": "code",
   "execution_count": 2,
   "id": "be79ae47-99bd-4f09-9e1b-73abc9753df6",
   "metadata": {},
   "outputs": [
    {
     "name": "stderr",
     "output_type": "stream",
     "text": [
      "                                                                                \r"
     ]
    },
    {
     "name": "stdout",
     "output_type": "stream",
     "text": [
      "data rows: 22510\n"
     ]
    },
    {
     "name": "stderr",
     "output_type": "stream",
     "text": [
      "                                                                                \r"
     ]
    },
    {
     "data": {
      "text/html": [
       "<table border=\"1\" class=\"dataframe\">\n",
       "  <thead>\n",
       "    <tr style=\"text-align: right;\">\n",
       "      <th></th>\n",
       "      <th>Name</th>\n",
       "      <th>Dialogue</th>\n",
       "    </tr>\n",
       "  </thead>\n",
       "  <tbody>\n",
       "    <tr>\n",
       "      <th>0</th>\n",
       "      <td>None</td>\n",
       "      <td>Do the Dothrakis buy their slaves? I didn’t realize there were knights of the Blackwater Lyanna Would you get out of here? We’re sparring I don’t know But he’s got giant’s blood Winter is here, Your Grace We need the King in the North in the north There is a snow blown field ARYA is riding on a horse Winterfell can be seen far in the distance</td>\n",
       "    </tr>\n",
       "  </tbody>\n",
       "</table>"
      ],
      "text/plain": [
       "<IPython.core.display.HTML object>"
      ]
     },
     "metadata": {},
     "output_type": "display_data"
    }
   ],
   "source": [
    "# dataset = spark.read.csv(\"../medium_search_dataset.csv\", header=True, inferSchema=True)\n",
    "# print(\"dataset rows:\", dataset.count())\n",
    "# data = dataset.select('post_time', 'post_name', 'ranking', 'Searched')\n",
    "data = spark.read.csv(\"../got_scripts_breakdown.csv\", header=True, inferSchema=True)\n",
    "print(\"data rows:\", data.count())\n",
    "data.describe()\n",
    "\n",
    "df_agg = data.orderBy('Name', 'N_series').groupBy('Name').agg(F.array_join(F.collect_list(\"Sentence\"), ' ', ' ').alias(\"Dialogue\"))\n",
    "display_df(df_agg, 1)\n"
   ]
  },
  {
   "cell_type": "code",
   "execution_count": 3,
   "id": "01a45593-bb24-44a8-b876-a4ae9c06361c",
   "metadata": {},
   "outputs": [
    {
     "name": "stderr",
     "output_type": "stream",
     "text": [
      "                                                                                \r"
     ]
    },
    {
     "data": {
      "text/html": [
       "<table border=\"1\" class=\"dataframe\">\n",
       "  <thead>\n",
       "    <tr style=\"text-align: right;\">\n",
       "      <th></th>\n",
       "      <th>Name</th>\n",
       "      <th>Dialogue</th>\n",
       "      <th>words</th>\n",
       "      <th>filtered_words</th>\n",
       "      <th>words_stemmed</th>\n",
       "      <th>features</th>\n",
       "    </tr>\n",
       "  </thead>\n",
       "  <tbody>\n",
       "    <tr>\n",
       "      <th>0</th>\n",
       "      <td>None</td>\n",
       "      <td>Do the Dothrakis buy their slaves? I didn’t realize there were knights of the Blackwater Lyanna Would you get out of here? We’re sparring I don’t know But he’s got giant’s blood Winter is here, Your Grace We need the King in the North in the north There is a snow blown field ARYA is riding on a horse Winterfell can be seen far in the distance</td>\n",
       "      <td>[do, the, dothrakis, buy, their, slaves?, i, didn’t, realize, there, were, knights, of, the, blackwater, lyanna, would, you, get, out, of, here?, we’re, sparring, i, don’t, know, but, he’s, got, giant’s, blood, winter, is, here,, your, grace, we, need, the, king, in, the, north, in, the, north, there, is, a, snow, blown, field, arya, is, riding, on, a, horse, winterfell, can, be, seen, far, in, the, distance]</td>\n",
       "      <td>[dothrakis, buy, slaves?, didn’t, realize, knights, blackwater, lyanna, get, here?, we’re, sparring, don’t, know, he’s, got, giant’s, blood, winter, here,, grace, need, king, north, north, snow, blown, field, arya, riding, horse, winterfell, seen, far, distance]</td>\n",
       "      <td>[dothraki, buy, slaves, didn't, realiz, knight, blackwat, lyanna, get, here, we'r, spar, don't, know, he, got, giant, blood, winter, here, grace, need, king, north, north, snow, blown, field, arya, ride, hors, winterfel, seen, far, distanc]</td>\n",
       "      <td>(1.0, 0.0, 0.0, 0.0, 1.0, 0.0, 0.0, 0.0, 0.0, 0.0, 0.0, 0.0, 0.0, 0.0, 0.0, 0.0, 0.0, 0.0, 0.0, 0.0, 0.0, 0.0, 1.0, 1.0, 0.0, 0.0, 0.0, 0.0, 0.0, 0.0, 0.0, 0.0, 0.0, 1.0, 0.0, 0.0, 0.0, 0.0, 0.0, 0.0, 0.0, 0.0, 0.0, 0.0, 0.0, 0.0, 0.0, 0.0, 0.0, 0.0, 2.0, 0.0, 0.0, 0.0, 0.0, 0.0, 0.0, 0.0, 0.0, 0.0, 0.0, 0.0, 1.0, 0.0, 0.0, 0.0, 0.0, 0.0, 0.0, 0.0, 0.0, 0.0, 0.0, 0.0, 0.0, 0.0, 0.0, 0.0, 0.0, 0.0, 0.0, 0.0, 0.0, 0.0, 0.0, 0.0, 0.0, 0.0, 0.0, 0.0, 0.0, 0.0, 0.0, 0.0, 0.0, 0.0, 1.0, 0.0, 0.0, 0.0, ...)</td>\n",
       "    </tr>\n",
       "    <tr>\n",
       "      <th>1</th>\n",
       "      <td>a voice</td>\n",
       "      <td>It’s Maester Luwin, my lord</td>\n",
       "      <td>[it’s, maester, luwin,, my, lord]</td>\n",
       "      <td>[it’s, maester, luwin,, lord]</td>\n",
       "      <td>[it, maester, luwin, lord]</td>\n",
       "      <td>(0.0, 1.0, 0.0, 0.0, 0.0, 0.0, 0.0, 0.0, 0.0, 0.0, 0.0, 0.0, 0.0, 0.0, 0.0, 0.0, 0.0, 0.0, 0.0, 0.0, 0.0, 0.0, 0.0, 0.0, 0.0, 0.0, 0.0, 1.0, 0.0, 0.0, 0.0, 0.0, 0.0, 0.0, 0.0, 0.0, 0.0, 0.0, 0.0, 0.0, 0.0, 0.0, 0.0, 0.0, 0.0, 0.0, 0.0, 0.0, 0.0, 0.0, 0.0, 0.0, 0.0, 0.0, 0.0, 0.0, 0.0, 0.0, 0.0, 0.0, 0.0, 0.0, 0.0, 0.0, 0.0, 0.0, 0.0, 0.0, 0.0, 0.0, 0.0, 0.0, 0.0, 0.0, 0.0, 0.0, 0.0, 0.0, 0.0, 0.0, 0.0, 0.0, 0.0, 0.0, 0.0, 0.0, 0.0, 0.0, 0.0, 0.0, 0.0, 0.0, 0.0, 0.0, 0.0, 0.0, 0.0, 0.0, 0.0, 0.0, ...)</td>\n",
       "    </tr>\n",
       "    <tr>\n",
       "      <th>2</th>\n",
       "      <td>a younger melara</td>\n",
       "      <td>We shouldn’t be out here alone</td>\n",
       "      <td>[we, shouldn’t, be, out, here, alone]</td>\n",
       "      <td>[shouldn’t, alone]</td>\n",
       "      <td>[shouldn't, alon]</td>\n",
       "      <td>(0.0, 0.0, 0.0, 0.0, 0.0, 0.0, 0.0, 0.0, 0.0, 0.0, 0.0, 0.0, 0.0, 0.0, 0.0, 0.0, 0.0, 0.0, 0.0, 0.0, 0.0, 0.0, 0.0, 0.0, 0.0, 0.0, 0.0, 0.0, 0.0, 0.0, 0.0, 0.0, 0.0, 0.0, 0.0, 0.0, 0.0, 0.0, 0.0, 0.0, 0.0, 0.0, 0.0, 0.0, 0.0, 0.0, 0.0, 0.0, 0.0, 0.0, 0.0, 0.0, 0.0, 0.0, 0.0, 0.0, 0.0, 0.0, 0.0, 0.0, 0.0, 0.0, 0.0, 0.0, 0.0, 0.0, 0.0, 0.0, 0.0, 0.0, 0.0, 0.0, 0.0, 0.0, 0.0, 0.0, 0.0, 0.0, 0.0, 0.0, 0.0, 0.0, 0.0, 0.0, 0.0, 0.0, 0.0, 0.0, 0.0, 0.0, 0.0, 0.0, 0.0, 0.0, 0.0, 0.0, 0.0, 0.0, 0.0, 0.0, ...)</td>\n",
       "    </tr>\n",
       "    <tr>\n",
       "      <th>3</th>\n",
       "      <td>addam marbrand</td>\n",
       "      <td>ls it true about Stannis and Renly?</td>\n",
       "      <td>[ls, it, true, about, stannis, and, renly?]</td>\n",
       "      <td>[ls, true, stannis, renly?]</td>\n",
       "      <td>[ls, true, stanni, renly]</td>\n",
       "      <td>(0.0, 0.0, 0.0, 0.0, 0.0, 0.0, 0.0, 0.0, 0.0, 0.0, 0.0, 0.0, 0.0, 0.0, 0.0, 0.0, 0.0, 0.0, 0.0, 0.0, 0.0, 0.0, 0.0, 0.0, 0.0, 0.0, 0.0, 0.0, 0.0, 0.0, 0.0, 0.0, 0.0, 0.0, 0.0, 0.0, 0.0, 0.0, 0.0, 0.0, 0.0, 0.0, 0.0, 0.0, 0.0, 0.0, 0.0, 0.0, 0.0, 0.0, 0.0, 0.0, 0.0, 0.0, 0.0, 0.0, 0.0, 0.0, 0.0, 0.0, 0.0, 0.0, 0.0, 0.0, 0.0, 0.0, 0.0, 0.0, 0.0, 0.0, 0.0, 0.0, 0.0, 0.0, 0.0, 0.0, 0.0, 0.0, 0.0, 0.0, 0.0, 0.0, 0.0, 0.0, 0.0, 0.0, 0.0, 0.0, 0.0, 0.0, 0.0, 0.0, 0.0, 0.0, 0.0, 0.0, 0.0, 0.0, 0.0, 0.0, ...)</td>\n",
       "    </tr>\n",
       "    <tr>\n",
       "      <th>4</th>\n",
       "      <td>aemon</td>\n",
       "      <td>And what is it that couldnt wait until morning, Tarly? That it was you? Who else but Samwell Tarly would be wasting candles to read in the middle of the night? Oh, no need I know my way around this library better than any other place in Castle Black Thousands of books and no eyes to read them Old age is a wonderful source of ironies if nothing else But you didnt answer my question, what are you reading? Ah, the Wildlings I can assure you that the closest Maester Faull ever got to a Wildling was this very library Yes Imagine the stories Wildlings tell about us! Love is the death of duty I told that to your friend Jon Snow once He didnt listen and neither did you Thats why you abandoned your watch atop the wall to come here and read about the things that may have happened to the girl you love Yes you do Yes you do! I heard it in your voice when you first brought her to me I remember how it sounds! I was in love once You can imagine all manner of horrors befalling that poor girl and her child, is it so difficult to imagine that an old person was once, more or less, like you? You know who I was before I came here? What I couldve been if Id only said the word? Of course you do I met many girls when I was Aemon Targaryen A future king always does Some of them were quite forward in their attempts to win my affections One of them succeeded I was very young Ah ha I could tell you everything about her Who she was How we met The color of her eyes and the shape of her nose I can see her right in front of me Shes more real than you are We could spend all night trading tales of lost love Nothing makes the past a sweeter place to visit than the prospect of imminent death Go to bed Tarly They came to us from White Harbor and Barrowton, from Fairmarket and Kings Landing, from north and south, from east and west They died protecting men, women, and children who will never know their names It is for us to remember them Our brothers, we shall never see their like again And now their watch is ended.Aemon passes the torch around as each member of the Nights Watch helps burn the bodies Stannis watches from above Does anyone wish to speak for candidates before we cast our tokens for the 998th Lord Commander of the Nights Watch? Is there anyone else? If theres no one else, we will begin the voting The triangular tokens count for Ser Alliser Thorne The square tokens for Ser Denys Mallister Each brother will- Samwell Tarly Go on It is time And shes alone, under siege, no family to guide her or protect her Her last relation thousands of miles away, useless, dying A Targaryen, alone in the world, is a terrible thing Lord Commander Oh, like a hundred-year-old man slowly freezing to death Half the men hate you already, Lord Commander Do it That doesnt matter You do You will find little joy in your command But with luck, you will find the strength to do what needs to be done Kill the boy, Jon Snow Winter is almost upon us Kill the boy, and let the man be born There he is That laugh Egg! Egg laughed like that One of the first things I remember about him And before that, he was a jolly fellow Like this one Get him south, Gillyflower Before it’s too late Egg! Egg! Mothers looking for you! Egg Egg! Egg I dreamed that I was old</td>\n",
       "      <td>[and, what, is, it, that, couldnt, wait, until, morning,, tarly?, that, it, was, you?, who, else, but, samwell, tarly, would, be, wasting, candles, to, read, in, the, middle, of, the, night?, oh,, no, need, i, know, my, way, around, this, library, better, than, any, other, place, in, castle, black, thousands, of, books, and, no, eyes, to, read, them, old, age, is, a, wonderful, source, of, ironies, if, nothing, else, but, you, didnt, answer, my, question,, what, are, you, reading?, ah,, the, wildlings, i, can, assure, you, that, the, closest, maester, faull, ever, got, to, a, wildling, was, this, very, library, ...]</td>\n",
       "      <td>[couldnt, wait, morning,, tarly?, you?, else, samwell, tarly, wasting, candles, read, middle, night?, oh,, need, know, way, around, library, better, place, castle, black, thousands, books, eyes, read, old, age, wonderful, source, ironies, nothing, else, didnt, answer, question,, reading?, ah,, wildlings, assure, closest, maester, faull, ever, got, wildling, library, yes, imagine, stories, wildlings, tell, us!, love, death, duty, told, friend, jon, snow, didnt, listen, neither, thats, abandoned, watch, atop, wall, come, read, things, may, happened, girl, love, yes, yes, do!, heard, voice, first, brought, remember, sounds!, love, imagine, manner, horrors, befalling, poor, girl, child,, difficult, imagine, old, person, once,, less,, like, ...]</td>\n",
       "      <td>[couldnt, wait, morning, tarly, you, els, samwel, tar, wast, candl, read, middl, night, oh, need, know, way, around, librari, better, place, castl, black, thousand, book, eye, read, old, age, wonder, sourc, ironi, noth, els, didnt, answer, question, reading, ah, wildl, assur, closest, maester, faull, ever, got, wildl, librari, yes, imagin, stori, wildl, tell, us, love, death, duti, told, friend, jon, snow, didnt, listen, neither, that, abandon, watch, atop, wall, come, read, thing, may, happen, girl, love, yes, yes, do, heard, voic, first, brought, rememb, sounds, love, imagin, manner, horror, befal, poor, girl, child, difficult, imagin, old, person, once, less, like, ...]</td>\n",
       "      <td>(3.0, 3.0, 0.0, 4.0, 2.0, 0.0, 2.0, 5.0, 0.0, 1.0, 4.0, 3.0, 0.0, 0.0, 2.0, 2.0, 2.0, 2.0, 0.0, 0.0, 2.0, 0.0, 1.0, 2.0, 0.0, 0.0, 2.0, 1.0, 1.0, 1.0, 2.0, 0.0, 1.0, 0.0, 0.0, 1.0, 0.0, 1.0, 0.0, 2.0, 3.0, 1.0, 0.0, 0.0, 3.0, 1.0, 2.0, 4.0, 4.0, 3.0, 1.0, 1.0, 0.0, 0.0, 0.0, 1.0, 0.0, 1.0, 0.0, 0.0, 0.0, 0.0, 0.0, 1.0, 2.0, 0.0, 0.0, 1.0, 0.0, 0.0, 0.0, 1.0, 0.0, 0.0, 0.0, 2.0, 2.0, 5.0, 2.0, 1.0, 1.0, 0.0, 2.0, 0.0, 0.0, 0.0, 1.0, 0.0, 1.0, 0.0, 1.0, 0.0, 1.0, 0.0, 2.0, 2.0, 1.0, 0.0, 0.0, 1.0, ...)</td>\n",
       "    </tr>\n",
       "  </tbody>\n",
       "</table>"
      ],
      "text/plain": [
       "<IPython.core.display.HTML object>"
      ]
     },
     "metadata": {},
     "output_type": "display_data"
    }
   ],
   "source": [
    "import string\n",
    "from nltk.stem.snowball import SnowballStemmer\n",
    "from pyspark.ml.feature import Tokenizer, StopWordsRemover, CountVectorizer\n",
    "from pyspark.sql.types import ArrayType, StringType\n",
    "\n",
    "\n",
    "tokenizer = Tokenizer(inputCol=\"Dialogue\", outputCol=\"words\")\n",
    "token_data = tokenizer.transform(df_agg)\n",
    "\n",
    "stopwords = StopWordsRemover.loadDefaultStopWords('english')\n",
    "stopwords.extend(['it'])\n",
    "stopwords_remover = StopWordsRemover(inputCol=\"words\", outputCol=\"filtered_words\", stopWords=stopwords)\n",
    "# print(stopwords_remover.getStopWords())\n",
    "df_no_stopwords = stopwords_remover.transform(token_data)\n",
    "\n",
    "\n",
    "def clean_stem(stemmer, token):\n",
    "    \"\"\" Return stem word, removing any punctuation from end of string \"\"\"\n",
    "    t = stemmer.stem(token)\n",
    "    return t.rstrip(string.punctuation) \n",
    "    # return t.translate(str.maketrans('', '', string.punctuation))\n",
    "    \n",
    "stemmer = SnowballStemmer(language='english')\n",
    "stemmer_udf = F.udf(lambda tokens: [clean_stem(stemmer, token) for token in tokens], ArrayType(StringType()))\n",
    "df_stemmed = df_no_stopwords.withColumn(\"words_stemmed\", stemmer_udf(\"filtered_words\"))\n",
    "\n",
    "\n",
    "cv = CountVectorizer(inputCol=\"words_stemmed\", outputCol=\"features\")\n",
    "cv_model = cv.fit(df_stemmed)\n",
    "vocabulary = {i:v for i,v in enumerate(cv_model.vocabulary)}\n",
    "vector_data = cv_model.transform(df_stemmed)\n",
    "display_df(vector_data, 5)"
   ]
  },
  {
   "cell_type": "code",
   "execution_count": null,
   "id": "04b94c52-025c-461b-bec8-557149b79cc4",
   "metadata": {},
   "outputs": [
    {
     "name": "stderr",
     "output_type": "stream",
     "text": [
      "[Stage 121:>                                                        (0 + 1) / 1]\r"
     ]
    }
   ],
   "source": [
    "from pyspark.ml.clustering import LDA\n",
    "\n",
    "lda = LDA(k=15, maxIter=30, featuresCol=\"features\")\n",
    "lda_model = lda.fit(vector_data)\n",
    "\n",
    "topics = lda_model.describeTopics(3)\n"
   ]
  },
  {
   "cell_type": "code",
   "execution_count": null,
   "id": "3bd8e232-6f83-40bb-99f7-cef988f5c5eb",
   "metadata": {},
   "outputs": [],
   "source": [
    "import pyspark.sql.functions as F\n",
    "\n",
    "map_array = F.udf(lambda a: [vocabulary[k] for k in a])\n",
    "df = topics.withColumn('terms', map_array(topics['termIndices']))\n",
    "display_df(df, 50)"
   ]
  },
  {
   "cell_type": "code",
   "execution_count": null,
   "id": "00673713-fe82-46b2-9ffe-8bd56d517c73",
   "metadata": {},
   "outputs": [],
   "source": []
  }
 ],
 "metadata": {
  "kernelspec": {
   "display_name": "Python 3 (ipykernel)",
   "language": "python",
   "name": "python3"
  },
  "language_info": {
   "codemirror_mode": {
    "name": "ipython",
    "version": 3
   },
   "file_extension": ".py",
   "mimetype": "text/x-python",
   "name": "python",
   "nbconvert_exporter": "python",
   "pygments_lexer": "ipython3",
   "version": "3.12.3"
  }
 },
 "nbformat": 4,
 "nbformat_minor": 5
}
