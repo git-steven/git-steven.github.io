{
 "cells": [
  {
   "cell_type": "code",
   "execution_count": null,
   "id": "122cb969-bdbc-4bc1-ad8d-343651e2821e",
   "metadata": {},
   "outputs": [],
   "source": [
    "from pyspark.sql import SparkSession\n",
    "\n",
    "spark = SparkSession.builder.appName(\"MediumSearchAnalysis\").getOrCreate()\n",
    "\n",
    "data = spark.read.csv(\"medium_search_dataset.csv\", header=True, inferSchema=True)\n"
   ]
  }
 ],
 "metadata": {
  "kernelspec": {
   "display_name": "Python 3 (ipykernel)",
   "language": "python",
   "name": "python3"
  },
  "language_info": {
   "codemirror_mode": {
    "name": "ipython",
    "version": 3
   },
   "file_extension": ".py",
   "mimetype": "text/x-python",
   "name": "python",
   "nbconvert_exporter": "python",
   "pygments_lexer": "ipython3",
   "version": "3.12.2"
  }
 },
 "nbformat": 4,
 "nbformat_minor": 5
}
