{
 "cells": [
  {
   "cell_type": "code",
   "execution_count": 2,
   "id": "ece60f78-9ede-465a-ad70-3acc5facc474",
   "metadata": {},
   "outputs": [],
   "source": [
    "import iplantuml"
   ]
  },
  {
   "cell_type": "code",
   "execution_count": 39,
   "id": "1963e748-f7fe-408c-81af-5c6a9a6b6409",
   "metadata": {
    "scrolled": true
   },
   "outputs": [
    {
     "name": "stdout",
     "output_type": "stream",
     "text": [
      "Writing output for /Users/windfox/src/git-steven.github.io/notebook/af9ad543-a3a0-42f2-a2cb-d69c1c8bc294.uml to af9ad543-a3a0-42f2-a2cb-d69c1c8bc294.svg\n"
     ]
    },
    {
     "data": {
      "image/svg+xml": [
       "<svg xmlns=\"http://www.w3.org/2000/svg\" xmlns:xlink=\"http://www.w3.org/1999/xlink\" contentStyleType=\"text/css\" height=\"827.0833px\" preserveAspectRatio=\"none\" style=\"width:544px;height:827px;\" version=\"1.1\" viewBox=\"0 0 544 827\" width=\"544.7917px\" zoomAndPan=\"magnify\"><defs><linearGradient id=\"gqrn4oosx1qrq0\" x1=\"50%\" x2=\"50%\" y1=\"0%\" y2=\"100%\"><stop offset=\"0%\" stop-color=\"#F18E3E\"/><stop offset=\"100%\" stop-color=\"#EC7211\"/></linearGradient></defs><g><!--cluster AWSFargate1--><g id=\"cluster_AWSFargate1\"><polygon fill=\"none\" points=\"77.0833,16.6667,87.5,6.25,262.5,6.25,262.5,117.6667,252.0833,128.0833,77.0833,128.0833,77.0833,16.6667\" style=\"stroke:#4E5D6C;stroke-width:1.0416666666666667;\"/><line style=\"stroke:#4E5D6C;stroke-width:1.0416666666666667;\" x1=\"252.0833\" x2=\"262.5\" y1=\"16.6667\" y2=\"6.25\"/><line style=\"stroke:#4E5D6C;stroke-width:1.0416666666666667;\" x1=\"77.0833\" x2=\"252.0833\" y1=\"16.6667\" y2=\"16.6667\"/><line style=\"stroke:#4E5D6C;stroke-width:1.0416666666666667;\" x1=\"252.0833\" x2=\"252.0833\" y1=\"16.6667\" y2=\"128.0833\"/><text fill=\"#ABB6C2\" font-family=\"Verdana\" font-size=\"12.5\" font-weight=\"bold\" lengthAdjust=\"spacing\" textLength=\"95.8333\" x=\"117.7083\" y=\"36.6028\">AWS Fargate</text></g><!--cluster AWSFargate2--><g id=\"cluster_AWSFargate2\"><polygon fill=\"none\" points=\"75,206.2083,85.4167,195.7917,260.4167,195.7917,260.4167,307.2188,250,317.6354,75,317.6354,75,206.2083\" style=\"stroke:#4E5D6C;stroke-width:1.0416666666666667;\"/><line style=\"stroke:#4E5D6C;stroke-width:1.0416666666666667;\" x1=\"250\" x2=\"260.4167\" y1=\"206.2083\" y2=\"195.7917\"/><line style=\"stroke:#4E5D6C;stroke-width:1.0416666666666667;\" x1=\"75\" x2=\"250\" y1=\"206.2083\" y2=\"206.2083\"/><line style=\"stroke:#4E5D6C;stroke-width:1.0416666666666667;\" x1=\"250\" x2=\"250\" y1=\"206.2083\" y2=\"317.6354\"/><text fill=\"#ABB6C2\" font-family=\"Verdana\" font-size=\"12.5\" font-weight=\"bold\" lengthAdjust=\"spacing\" textLength=\"95.8333\" x=\"115.625\" y=\"226.1444\">AWS Fargate</text></g><!--cluster AWS--><g id=\"cluster_AWS\"><polygon fill=\"none\" points=\"84.375,387.4271,94.7917,377.0104,207.2917,377.0104,207.2917,481.1458,196.875,491.5625,84.375,491.5625,84.375,387.4271\" style=\"stroke:#4E5D6C;stroke-width:1.0416666666666667;\"/><line style=\"stroke:#4E5D6C;stroke-width:1.0416666666666667;\" x1=\"196.875\" x2=\"207.2917\" y1=\"387.4271\" y2=\"377.0104\"/><line style=\"stroke:#4E5D6C;stroke-width:1.0416666666666667;\" x1=\"84.375\" x2=\"196.875\" y1=\"387.4271\" y2=\"387.4271\"/><line style=\"stroke:#4E5D6C;stroke-width:1.0416666666666667;\" x1=\"196.875\" x2=\"196.875\" y1=\"387.4271\" y2=\"491.5625\"/><text fill=\"#ABB6C2\" font-family=\"Verdana\" font-size=\"12.5\" font-weight=\"bold\" lengthAdjust=\"spacing\" textLength=\"33.3333\" x=\"125\" y=\"407.3632\">AWS</text></g><!--cluster AWSLambda--><g id=\"cluster_AWSLambda\"><polygon fill=\"none\" points=\"16.6667,561.3542,27.0833,550.9375,268.75,550.9375,268.75,662.3646,258.3333,672.7813,16.6667,672.7813,16.6667,561.3542\" style=\"stroke:#4E5D6C;stroke-width:1.0416666666666667;\"/><line style=\"stroke:#4E5D6C;stroke-width:1.0416666666666667;\" x1=\"258.3333\" x2=\"268.75\" y1=\"561.3542\" y2=\"550.9375\"/><line style=\"stroke:#4E5D6C;stroke-width:1.0416666666666667;\" x1=\"16.6667\" x2=\"258.3333\" y1=\"561.3542\" y2=\"561.3542\"/><line style=\"stroke:#4E5D6C;stroke-width:1.0416666666666667;\" x1=\"258.3333\" x2=\"258.3333\" y1=\"561.3542\" y2=\"672.7813\"/><text fill=\"#ABB6C2\" font-family=\"Verdana\" font-size=\"12.5\" font-weight=\"bold\" lengthAdjust=\"spacing\" textLength=\"95.8333\" x=\"90.625\" y=\"581.2903\">AWS Lambda</text></g><!--entity WebUI--><g id=\"elem_WebUI\"><rect fill=\"url(#gqrn4oosx1qrq0)\" height=\"56.2174\" rx=\"4.1667\" ry=\"4.1667\" style=\"stroke:#EC7211;stroke-width:1.0416666666666667;\" width=\"92.7083\" x=\"121.3542\" y=\"55.2083\"/><rect fill=\"url(#gqrn4oosx1qrq0)\" height=\"10.4167\" style=\"stroke:#EC7211;stroke-width:1.0416666666666667;\" width=\"15.625\" x=\"193.2292\" y=\"60.4167\"/><rect fill=\"url(#gqrn4oosx1qrq0)\" height=\"2.0833\" style=\"stroke:#EC7211;stroke-width:1.0416666666666667;\" width=\"4.1667\" x=\"191.1458\" y=\"62.5\"/><rect fill=\"url(#gqrn4oosx1qrq0)\" height=\"2.0833\" style=\"stroke:#EC7211;stroke-width:1.0416666666666667;\" width=\"4.1667\" x=\"191.1458\" y=\"66.6667\"/><text fill=\"#FFFFFF\" font-family=\"Verdana\" font-size=\"12.5\" lengthAdjust=\"spacing\" textLength=\"40.625\" x=\"142.1875\" y=\"92.8528\">WebUI</text></g><!--entity FastAPIService--><g id=\"elem_FastAPIService\"><rect fill=\"url(#gqrn4oosx1qrq0)\" height=\"56.2174\" rx=\"4.1667\" ry=\"4.1667\" style=\"stroke:#EC7211;stroke-width:1.0416666666666667;\" width=\"146.875\" x=\"94.2708\" y=\"244.75\"/><rect fill=\"url(#gqrn4oosx1qrq0)\" height=\"10.4167\" style=\"stroke:#EC7211;stroke-width:1.0416666666666667;\" width=\"15.625\" x=\"220.3125\" y=\"249.9583\"/><rect fill=\"url(#gqrn4oosx1qrq0)\" height=\"2.0833\" style=\"stroke:#EC7211;stroke-width:1.0416666666666667;\" width=\"4.1667\" x=\"218.2292\" y=\"252.0417\"/><rect fill=\"url(#gqrn4oosx1qrq0)\" height=\"2.0833\" style=\"stroke:#EC7211;stroke-width:1.0416666666666667;\" width=\"4.1667\" x=\"218.2292\" y=\"256.2083\"/><text fill=\"#FFFFFF\" font-family=\"Verdana\" font-size=\"12.5\" lengthAdjust=\"spacing\" textLength=\"94.7917\" x=\"115.1042\" y=\"282.3944\">FastAPIService</text></g><!--entity SQS--><g id=\"elem_SQS\"><rect fill=\"#4E5D6C\" height=\"48.9258\" rx=\"4.1667\" ry=\"4.1667\" style=\"stroke:#3E4A56;stroke-width:1.0416666666666667;\" width=\"67.7083\" x=\"111.9792\" y=\"425.9688\"/><polygon fill=\"#4E5D6C\" points=\"161.9792,431.1771,161.9792,445.7604,174.4792,445.7604,174.4792,437.4271,168.2292,431.1771,161.9792,431.1771\" style=\"stroke:#3E4A56;stroke-width:1.0416666666666667;\"/><line style=\"stroke:#3E4A56;stroke-width:1.0416666666666667;\" x1=\"168.2292\" x2=\"168.2292\" y1=\"431.1771\" y2=\"437.4271\"/><line style=\"stroke:#3E4A56;stroke-width:1.0416666666666667;\" x1=\"174.4792\" x2=\"168.2292\" y1=\"437.4271\" y2=\"437.4271\"/><text fill=\"#ABB6C2\" font-family=\"Verdana\" font-size=\"12.5\" lengthAdjust=\"spacing\" textLength=\"26.0417\" x=\"127.6042\" y=\"456.3215\">SQS</text></g><!--entity CommandHandlerLambda--><g id=\"elem_CommandHandlerLambda\"><rect fill=\"url(#gqrn4oosx1qrq0)\" height=\"56.2174\" rx=\"4.1667\" ry=\"4.1667\" style=\"stroke:#EC7211;stroke-width:1.0416666666666667;\" width=\"218.75\" x=\"33.3333\" y=\"599.8958\"/><rect fill=\"url(#gqrn4oosx1qrq0)\" height=\"10.4167\" style=\"stroke:#EC7211;stroke-width:1.0416666666666667;\" width=\"15.625\" x=\"231.25\" y=\"605.1042\"/><rect fill=\"url(#gqrn4oosx1qrq0)\" height=\"2.0833\" style=\"stroke:#EC7211;stroke-width:1.0416666666666667;\" width=\"4.1667\" x=\"229.1667\" y=\"607.1875\"/><rect fill=\"url(#gqrn4oosx1qrq0)\" height=\"2.0833\" style=\"stroke:#EC7211;stroke-width:1.0416666666666667;\" width=\"4.1667\" x=\"229.1667\" y=\"611.3542\"/><text fill=\"#FFFFFF\" font-family=\"Verdana\" font-size=\"12.5\" lengthAdjust=\"spacing\" textLength=\"166.6667\" x=\"54.1667\" y=\"637.5403\">CommandHandlerLambda</text></g><!--entity Database--><g id=\"elem_Database\"><path d=\"M195.3125,765.4896 C195.3125,755.0729 242.7083,755.0729 242.7083,755.0729 C242.7083,755.0729 290.1042,755.0729 290.1042,765.4896 L290.1042,799.832 C290.1042,810.2487 242.7083,810.2487 242.7083,810.2487 C242.7083,810.2487 195.3125,810.2487 195.3125,799.832 L195.3125,765.4896 \" fill=\"url(#gqrn4oosx1qrq0)\" style=\"stroke:#EC7211;stroke-width:1.0416666666666667;\"/><path d=\"M195.3125,765.4896 C195.3125,775.9063 242.7083,775.9063 242.7083,775.9063 C242.7083,775.9063 290.1042,775.9063 290.1042,765.4896 \" fill=\"none\" style=\"stroke:#EC7211;stroke-width:1.0416666666666667;\"/><text fill=\"#4E5D6C\" font-family=\"Verdana\" font-size=\"12.5\" lengthAdjust=\"spacing\" textLength=\"63.5417\" x=\"210.9375\" y=\"796.884\">Database</text></g><!--link WebUI to FastAPIService--><g id=\"link_WebUI_FastAPIService\"><path d=\"M167.7083,111.6146 C167.7083,147.1563 167.7083,202.7188 167.7083,238.2813 \" fill=\"none\" id=\"WebUI-to-FastAPIService\" style=\"stroke:#EC7211;stroke-width:3.125;stroke-dasharray:7.0,7.0;\"/><polygon fill=\"#EC7211\" points=\"167.7083,244.5313,171.875,235.1563,167.7083,239.3229,163.5417,235.1563,167.7083,244.5313\" style=\"stroke:#EC7211;stroke-width:3.125;\"/><text fill=\"#4E5D6C\" font-family=\"Verdana\" font-size=\"12.5\" lengthAdjust=\"spacing\" textLength=\"357.2917\" x=\"173.9583\" y=\"162.6028\">invokes service to obtain data and execute commands</text></g><!--link FastAPIService to SQS--><g id=\"link_FastAPIService_SQS\"><path d=\"M164.2917,301.3229 C160.0417,335.4479 153.618,386.9648 149.5763,419.3398 \" fill=\"none\" id=\"FastAPIService-to-SQS\" style=\"stroke:#EC7211;stroke-width:3.125;stroke-dasharray:7.0,7.0;\"/><polygon fill=\"#EC7211\" points=\"148.8021,425.5417,154.098,416.755,149.4473,420.3735,145.8289,415.7227,148.8021,425.5417\" style=\"stroke:#EC7211;stroke-width:3.125;\"/><text fill=\"#4E5D6C\" font-family=\"Verdana\" font-size=\"12.5\" lengthAdjust=\"spacing\" textLength=\"110.4167\" x=\"165.625\" y=\"352.1549\">sends messages</text></g><!--link SQS to CommandHandlerLambda--><g id=\"link_SQS_CommandHandlerLambda\"><path d=\"M137.7708,475.2083 C134.75,485.2604 131.6979,497.1875 130.2083,508.2292 C125.9896,539.4583 129.9384,569.3344 134.855,593.4386 \" fill=\"none\" id=\"SQS-to-CommandHandlerLambda\" style=\"stroke:#EC7211;stroke-width:3.125;stroke-dasharray:7.0,7.0;\"/><polygon fill=\"#EC7211\" points=\"136.1042,599.5625,138.3131,589.5439,135.0632,594.4592,130.1479,591.2094,136.1042,599.5625\" style=\"stroke:#EC7211;stroke-width:3.125;\"/><text fill=\"#4E5D6C\" font-family=\"Verdana\" font-size=\"12.5\" lengthAdjust=\"spacing\" textLength=\"125\" x=\"136.4583\" y=\"526.0819\">receives messages</text></g><!--reverse link FastAPIService to Database--><g id=\"link_FastAPIService_Database\"><path d=\"M247.1292,297.371 C266.0354,306.4023 278.5,316.4479 289.5833,334.3021 C380.8542,481.4063 347.4375,560.6563 289.5833,723.8229 C285.6146,735.0313 278.4375,745.6458 270.8854,754.6458 \" fill=\"none\" id=\"FastAPIService-backto-Database\" style=\"stroke:#EC7211;stroke-width:3.125;stroke-dasharray:7.0,7.0;\"/><polygon fill=\"#EC7211\" points=\"241.4896,294.6771,248.153,302.4778,246.1893,296.922,251.745,294.9583,241.4896,294.6771\" style=\"stroke:#EC7211;stroke-width:3.125;\"/><text fill=\"#4E5D6C\" font-family=\"Verdana\" font-size=\"12.5\" lengthAdjust=\"spacing\" textLength=\"71.875\" x=\"352.0833\" y=\"526.0819\">reads data</text></g><!--link CommandHandlerLambda to Database--><g id=\"link_CommandHandlerLambda_Database\"><path d=\"M158.3542,656.4271 C169.5208,675.5833 185.125,701.6146 200,723.8229 C206.875,734.0833 211.0721,740.0449 218.2387,749.6387 \" fill=\"none\" id=\"CommandHandlerLambda-to-Database\" style=\"stroke:#EC7211;stroke-width:3.125;stroke-dasharray:7.0,7.0;\"/><polygon fill=\"#EC7211\" points=\"221.9792,754.6458,219.7066,744.6415,218.8621,750.4732,213.0304,749.6287,221.9792,754.6458\" style=\"stroke:#EC7211;stroke-width:3.125;\"/><text fill=\"#4E5D6C\" font-family=\"Verdana\" font-size=\"12.5\" lengthAdjust=\"spacing\" textLength=\"72.9167\" x=\"206.25\" y=\"715.634\">writes data</text></g><!--SRC=[XP11IyGm48Nlyol6tYteKKHObCK53qgHFK_RiOOrYIHZLv3zxqxIQcif60XaalU-DvCpUMNBICTuxWEvZW70-PQnsEmht5BeIBX0YgZrM5xW5w2knjjtxzW9xhb-ti49G7p7IWoZ8gry-0zvEJDCs2r5sJpkAWwzQJWBJXCkqION1J4lr0XMJzLIcOCVoDOj_UGErMhghRUMN7kl-ut389mHqvW0BGdL51dlnWD0_WGiovj5trTO6DVx0qUCmmsAHryB6OU9Wvg4_CdDXt3g8wN70lvICbXdKrfaVKVBCLB7AjJR_BhMkCe3DsnwdZjW2Rykozz9ieKq8VLMm1ernytqns24HyCt]--></g></svg>"
      ],
      "text/plain": [
       "<IPython.core.display.SVG object>"
      ]
     },
     "execution_count": 39,
     "metadata": {},
     "output_type": "execute_result"
    }
   ],
   "source": [
    "%%plantuml\n",
    "!theme aws-orange\n",
    "@startuml\n",
    "\n",
    "node \"AWS Fargate\" as AWSFargate1 {\n",
    "    component WebUI\n",
    "}\n",
    "\n",
    "together {\n",
    "        \n",
    "    node \"AWS Fargate\" as AWSFargate2 {\n",
    "        component FastAPIService\n",
    "    }\n",
    "    node AWS {\n",
    "        artifact SQS\n",
    "    }\n",
    "    node \"AWS Lambda\" as AWSLambda {\n",
    "        component CommandHandlerLambda\n",
    "    }\n",
    "    \n",
    "}\n",
    "\n",
    "\n",
    "\n",
    "database Database\n",
    "\n",
    "WebUI ..> FastAPIService: \"invokes service to obtain data and execute commands\"\n",
    "FastAPIService ..> SQS: \"sends messages\"\n",
    "SQS ..> CommandHandlerLambda: \"receives messages\"\n",
    "\n",
    "\n",
    "FastAPIService <.. Database: \"reads data\"\n",
    "CommandHandlerLambda ..> Database: \"writes data\"\n",
    "\n",
    "\n",
    "\n",
    "@enduml"
   ]
  },
  {
   "cell_type": "code",
   "execution_count": null,
   "id": "bd31caa5-fc6a-48cd-8854-1bc6b8c76329",
   "metadata": {},
   "outputs": [],
   "source": []
  }
 ],
 "metadata": {
  "kernelspec": {
   "display_name": "Python 3 (ipykernel)",
   "language": "python",
   "name": "python3"
  },
  "language_info": {
   "codemirror_mode": {
    "name": "ipython",
    "version": 3
   },
   "file_extension": ".py",
   "mimetype": "text/x-python",
   "name": "python",
   "nbconvert_exporter": "python",
   "pygments_lexer": "ipython3",
   "version": "3.12.2"
  }
 },
 "nbformat": 4,
 "nbformat_minor": 5
}
