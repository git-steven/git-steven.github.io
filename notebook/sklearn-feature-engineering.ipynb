{
 "cells": [
  {
   "cell_type": "markdown",
   "id": "86560f37-35dd-496b-a6b6-c175d9091836",
   "metadata": {},
   "source": [
    "# Feature Selection using f_regression"
   ]
  },
  {
   "cell_type": "code",
   "execution_count": 8,
   "id": "f7fa8c64-1015-4fd2-b8e6-656ea8acb100",
   "metadata": {},
   "outputs": [
    {
     "name": "stdout",
     "output_type": "stream",
     "text": [
      "worst concave points: 964.39\n",
      "worst perimeter: 897.94\n",
      "mean concave points: 861.68\n",
      "worst radius: 860.78\n",
      "mean perimeter: 697.24\n",
      "worst area: 661.60\n",
      "mean radius: 646.98\n",
      "mean area: 573.06\n",
      "mean concavity: 533.79\n",
      "worst concavity: 436.69\n"
     ]
    }
   ],
   "source": [
    "from sklearn.datasets import load_breast_cancer\n",
    "from sklearn.feature_selection import f_regression\n",
    "\n",
    "# Load the Breast Cancer dataset\n",
    "data = load_breast_cancer()\n",
    "X, y = data.data, data.target\n",
    "\n",
    "# Perform feature selection using f_regression\n",
    "f_scores, p_values = f_regression(X, y)\n",
    "\n",
    "# Get the feature importance scores\n",
    "feature_importance = abs(f_scores)\n",
    "\n",
    "# Sort the features by importance in descending order\n",
    "sorted_indices = feature_importance.argsort()[::-1]\n",
    "\n",
    "# Print the top 10 feature importance scores and names\n",
    "for i in sorted_indices[:10]:\n",
    "    print(f\"{data.feature_names[i]}: {feature_importance[i]:.2f}\")"
   ]
  },
  {
   "cell_type": "markdown",
   "id": "2118413c-9332-4087-9ff8-608174a6d1b2",
   "metadata": {},
   "source": [
    "# RFE Feature Selection"
   ]
  },
  {
   "cell_type": "code",
   "execution_count": 18,
   "id": "2956c869-f2a8-4472-925c-b8946cd3db30",
   "metadata": {},
   "outputs": [
    {
     "name": "stdout",
     "output_type": "stream",
     "text": [
      "Selected features: ['mean radius', 'mean compactness', 'mean concavity', 'texture error', 'worst radius', 'worst smoothness', 'worst compactness', 'worst concavity', 'worst concave points', 'worst symmetry']\n"
     ]
    }
   ],
   "source": [
    "from sklearn.datasets import load_breast_cancer\n",
    "from sklearn.feature_selection import RFE\n",
    "from sklearn.linear_model import LogisticRegression\n",
    "\n",
    "# Load the Breast Cancer dataset\n",
    "data = load_breast_cancer()\n",
    "X, y = data.data, data.target\n",
    "\n",
    "# Create a logistic regression estimator\n",
    "estimator = LogisticRegression(max_iter=2000)\n",
    "\n",
    "# Perform feature selection using RFE\n",
    "selector = RFE(estimator, n_features_to_select=10, step=1)\n",
    "selector = selector.fit(X, y)\n",
    "\n",
    "# Get the selected feature indices\n",
    "selected_feature_indices = selector.support_\n",
    "\n",
    "# Print the selected feature names\n",
    "selected_feature_names = [data.feature_names[i] for i in range(len(data.feature_names)) if selected_feature_indices[i]]\n",
    "print(\"Selected features:\", selected_feature_names)"
   ]
  }
 ],
 "metadata": {
  "kernelspec": {
   "display_name": "Python 3 (ipykernel)",
   "language": "python",
   "name": "python3"
  },
  "language_info": {
   "codemirror_mode": {
    "name": "ipython",
    "version": 3
   },
   "file_extension": ".py",
   "mimetype": "text/x-python",
   "name": "python",
   "nbconvert_exporter": "python",
   "pygments_lexer": "ipython3",
   "version": "3.12.2"
  }
 },
 "nbformat": 4,
 "nbformat_minor": 5
}
